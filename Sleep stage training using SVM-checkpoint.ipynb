{
 "cells": [
  {
   "cell_type": "code",
   "execution_count": 1,
   "metadata": {
    "collapsed": true
   },
   "outputs": [],
   "source": [
    "import pandas as pd \n",
    "import numpy as np\n",
    "from sklearn import svm\n",
    "import matplotlib.pyplot as plt\n",
    "import warnings\n",
    "warnings.filterwarnings('ignore')"
   ]
  },
  {
   "cell_type": "code",
   "execution_count": 2,
   "metadata": {},
   "outputs": [
    {
     "data": {
      "text/plain": [
       "(5, 20)"
      ]
     },
     "execution_count": 2,
     "metadata": {},
     "output_type": "execute_result"
    }
   ],
   "source": [
    "# form input\n",
    "SVM_input = pd.read_excel(\"SVM_input.xlsx\")\n",
    "SVM_input = SVM_input.as_matrix()\n",
    "SVM_input.shape"
   ]
  },
  {
   "cell_type": "code",
   "execution_count": 3,
   "metadata": {
    "collapsed": true
   },
   "outputs": [],
   "source": [
    "# form output\n",
    "SVM_output = np.arange(1,6)\n",
    "SVM_output = SVM_output.transpose()"
   ]
  },
  {
   "cell_type": "code",
   "execution_count": 4,
   "metadata": {
    "collapsed": true
   },
   "outputs": [],
   "source": [
    "# train the multiclass SVM classifier based on 20 features and\n",
    "from sklearn.multiclass import OneVsOneClassifier\n",
    "from sklearn.svm import LinearSVC\n",
    "classifier = OneVsOneClassifier(LinearSVC(random_state=0)).fit(SVM_input, SVM_output)"
   ]
  },
  {
   "cell_type": "code",
   "execution_count": 5,
   "metadata": {},
   "outputs": [
    {
     "data": {
      "text/plain": [
       "(array([ 1.,  0.,  0.,  0.,  0.,  1.,  0.,  1.,  1.,  1.,  2.,  2.,  2.,\n",
       "         1.,  1.,  2.,  4.,  0.,  0.,  1.]),\n",
       " array([-4.81726897, -4.43828762, -4.05930627, -3.68032492, -3.30134357,\n",
       "        -2.92236222, -2.54338087, -2.16439952, -1.78541817, -1.40643682,\n",
       "        -1.02745547, -0.64847412, -0.26949277,  0.10948859,  0.48846994,\n",
       "         0.86745129,  1.24643264,  1.62541399,  2.00439534,  2.38337669,\n",
       "         2.76235804]),\n",
       " <a list of 20 Patch objects>)"
      ]
     },
     "execution_count": 5,
     "metadata": {},
     "output_type": "execute_result"
    },
    {
     "data": {
      "image/png": "[encoded data removed]",
      "text/plain": [
       "<matplotlib.figure.Figure at 0x1fc29f9fd68>"
      ]
     },
     "metadata": {},
     "output_type": "display_data"
    }
   ],
   "source": [
    "%matplotlib inline\n",
    "test = np.random.normal(0,2,20)\n",
    "test\n",
    "plt.hist(test, bins = 20)"
   ]
  },
  {
   "cell_type": "code",
   "execution_count": 14,
   "metadata": {},
   "outputs": [
    {
     "name": "stdout",
     "output_type": "stream",
     "text": [
      "0.93\n",
      "0.0\n",
      "0.0\n",
      "0.0\n",
      "0.07\n"
     ]
    }
   ],
   "source": [
    "# testing input \n",
    "true_pos_count = 0\n",
    "false_count_N2 = 0\n",
    "false_count_N3 = 0\n",
    "false_count_REM =0\n",
    "false_count_wake = 0\n",
    "prediction = np.zeros((1,200))\n",
    "for i in range(0,200):\n",
    "    test_1 = SVM_input[0,:] + np.random.normal(0, 4, 20)\n",
    "    prediction = classifier.predict(test_1)\n",
    "    if prediction == 1:\n",
    "        true_pos_count = true_pos_count + 1\n",
    "    elif prediction == 2:\n",
    "        false_count_N2 = false_count_N2 + 1\n",
    "    elif prediction == 3:\n",
    "        false_count_N3 = false_count_N3 + 1\n",
    "    elif prediction == 4:\n",
    "        false_count_wake = false_count_wake + 1\n",
    "    elif prediction == 5:\n",
    "        false_count_REM = false_count_REM + 1\n",
    "print(true_pos_count/200)\n",
    "print(false_count_N2/200)\n",
    "print(false_count_N3/200)\n",
    "print(false_count_wake/200)\n",
    "print(false_count_REM/200)"
   ]
  },
  {
   "cell_type": "code",
   "execution_count": 175,
   "metadata": {
    "scrolled": true
   },
   "outputs": [
    {
     "name": "stdout",
     "output_type": "stream",
     "text": [
      "0.96\n",
      "0.01\n",
      "0.0\n",
      "0.0\n",
      "0.03\n"
     ]
    }
   ],
   "source": [
    "# testing input \n",
    "true_pos_count = 0\n",
    "false_count_N1 = 0\n",
    "false_count_N3 = 0\n",
    "false_count_REM =0\n",
    "false_count_wake = 0\n",
    "prediction = np.zeros((1,200))\n",
    "for i in range(0,200):\n",
    "    test_1 = SVM_input[1,:] + np.random.normal(0, 5, 20)\n",
    "    prediction = classifier.predict(test_1)\n",
    "    if prediction == 2:\n",
    "        true_pos_count = true_pos_count + 1\n",
    "    elif prediction == 1:\n",
    "        false_count_N1 = false_count_N1 + 1\n",
    "    elif prediction == 3:\n",
    "        false_count_N3 = false_count_N3 + 1\n",
    "    elif prediction == 4:\n",
    "        false_count_wake = false_count_wake + 1\n",
    "    elif prediction == 5:\n",
    "        false_count_REM = false_count_REM + 1\n",
    "print(true_pos_count/200)\n",
    "print(false_count_N1/200)\n",
    "print(false_count_N3/200)\n",
    "print(false_count_wake/200)\n",
    "print(false_count_REM/200)"
   ]
  },
  {
   "cell_type": "code",
   "execution_count": 176,
   "metadata": {},
   "outputs": [
    {
     "name": "stdout",
     "output_type": "stream",
     "text": [
      "0.985\n",
      "0.0\n",
      "0.0\n",
      "0.015\n",
      "0.0\n"
     ]
    }
   ],
   "source": [
    "# testing input \n",
    "true_pos_count = 0\n",
    "false_count_N1 = 0\n",
    "false_count_N2 = 0\n",
    "false_count_REM =0\n",
    "false_count_wake = 0\n",
    "prediction = np.zeros((1,200))\n",
    "for i in range(0,200):\n",
    "    test_1 = SVM_input[2,:] + np.random.normal(0, 5, 20)\n",
    "    prediction = classifier.predict(test_1)\n",
    "    if prediction == 3:\n",
    "        true_pos_count = true_pos_count + 1\n",
    "    elif prediction == 1:\n",
    "        false_count_N1 = false_count_N1 + 1\n",
    "    elif prediction == 2:\n",
    "        false_count_N2 = false_count_N2 + 1\n",
    "    elif prediction == 4:\n",
    "        false_count_wake = false_count_wake + 1\n",
    "    elif prediction == 5:\n",
    "        false_count_REM = false_count_REM + 1\n",
    "print(true_pos_count/200)\n",
    "print(false_count_N1/200)\n",
    "print(false_count_N3/200)\n",
    "print(false_count_wake/200)\n",
    "print(false_count_REM/200)"
   ]
  },
  {
   "cell_type": "code",
   "execution_count": 177,
   "metadata": {},
   "outputs": [
    {
     "name": "stdout",
     "output_type": "stream",
     "text": [
      "0.97\n",
      "0.0\n",
      "0.03\n",
      "0.0\n",
      "0.0\n"
     ]
    }
   ],
   "source": [
    "# testing input \n",
    "true_pos_count = 0\n",
    "false_count_N1 = 0\n",
    "false_count_N2 = 0\n",
    "false_count_N3 =0\n",
    "false_count_wake = 0\n",
    "prediction = np.zeros((1,200))\n",
    "for i in range(0,200):\n",
    "    test_1 = SVM_input[3,:] + np.random.normal(0, 5, 20)\n",
    "    prediction = classifier.predict(test_1)\n",
    "    if prediction == 4:\n",
    "        true_pos_count = true_pos_count + 1\n",
    "    elif prediction == 1:\n",
    "        false_count_N1 = false_count_N1 + 1\n",
    "    elif prediction == 2:\n",
    "        false_count_N2 = false_count_N2 + 1\n",
    "    elif prediction == 3:\n",
    "        false_count_N3 = false_count_N3 + 1\n",
    "    elif prediction == 5:\n",
    "        false_count_REM = false_count_REM + 1\n",
    "print(true_pos_count/200)\n",
    "print(false_count_N1/200)\n",
    "print(false_count_N3/200)\n",
    "print(false_count_wake/200)\n",
    "print(false_count_REM/200)"
   ]
  },
  {
   "cell_type": "code",
   "execution_count": 181,
   "metadata": {},
   "outputs": [
    {
     "name": "stdout",
     "output_type": "stream",
     "text": [
      "0.93\n",
      "0.06\n",
      "0.01\n",
      "0.0\n",
      "0.0\n"
     ]
    }
   ],
   "source": [
    "# testing input \n",
    "true_pos_count = 0\n",
    "false_count_N1 = 0\n",
    "false_count_N2 = 0\n",
    "false_count_REM =0\n",
    "false_count_N3 = 0\n",
    "prediction = np.zeros((1,200))\n",
    "for i in range(0,200):\n",
    "    test_1 = SVM_input[4,:] + np.random.normal(0, 4, 20)\n",
    "    prediction = classifier.predict(test_1)\n",
    "    if prediction == 5:\n",
    "        true_pos_count = true_pos_count + 1\n",
    "    elif prediction == 1:\n",
    "        false_count_N1 = false_count_N1 + 1\n",
    "    elif prediction == 2:\n",
    "        false_count_N2 = false_count_N2 + 1\n",
    "    elif prediction == 3:\n",
    "        false_count_N3 = false_count_N3 + 1\n",
    "    elif prediction == 4:\n",
    "        false_count_REM = false_count_REM + 1\n",
    "print(true_pos_count/200)\n",
    "print(false_count_N1/200)\n",
    "print(false_count_N2/200)\n",
    "print(false_count_N3/200)\n",
    "print(false_count_REM/200)"
   ]
  },
  {
   "cell_type": "code",
   "execution_count": 39,
   "metadata": {},
   "outputs": [
    {
     "name": "stdout",
     "output_type": "stream",
     "text": [
      "Automatically created module for IPython interactive environment\n"
     ]
    },
    {
     "name": "stderr",
     "output_type": "stream",
     "text": [
      "C:\\Users\\Leo Du\\Anaconda3\\lib\\site-packages\\numpy\\ma\\core.py:6385: MaskedArrayFutureWarning: In the future the default for ma.minimum.reduce will be axis=0, not the current None, to match np.minimum.reduce. Explicitly pass 0 or None to silence this warning.\n",
      "  return self.reduce(a)\n",
      "C:\\Users\\Leo Du\\Anaconda3\\lib\\site-packages\\numpy\\ma\\core.py:6385: MaskedArrayFutureWarning: In the future the default for ma.maximum.reduce will be axis=0, not the current None, to match np.maximum.reduce. Explicitly pass 0 or None to silence this warning.\n",
      "  return self.reduce(a)\n"
     ]
    },
    {
     "data": {
      "image/png": "[encoded data removed]",
      "text/plain": [
       "<matplotlib.figure.Figure at 0x1e91d89a550>"
      ]
     },
     "metadata": {},
     "output_type": "display_data"
    }
   ],
   "source": [
    "print(__doc__)\n",
    "\n",
    "import numpy as np\n",
    "import matplotlib.pyplot as plt\n",
    "from sklearn import svm, datasets\n",
    "\n",
    "\n",
    "def make_meshgrid(x, y, h=.02):\n",
    "    \"\"\"Create a mesh of points to plot in\n",
    "\n",
    "    Parameters\n",
    "    ----------\n",
    "    x: data to base x-axis meshgrid on\n",
    "    y: data to base y-axis meshgrid on\n",
    "    h: stepsize for meshgrid, optional\n",
    "\n",
    "    Returns\n",
    "    -------\n",
    "    xx, yy : ndarray\n",
    "    \"\"\"\n",
    "    x_min, x_max = x.min() - 1, x.max() + 1\n",
    "    y_min, y_max = y.min() - 1, y.max() + 1\n",
    "    xx, yy = np.meshgrid(np.arange(x_min, x_max, h),\n",
    "                         np.arange(y_min, y_max, h))\n",
    "    return xx, yy\n",
    "\n",
    "\n",
    "def plot_contours(ax, clf, xx, yy, **params):\n",
    "    \"\"\"Plot the decision boundaries for a classifier.\n",
    "\n",
    "    Parameters\n",
    "    ----------\n",
    "    ax: matplotlib axes object\n",
    "    clf: a classifier\n",
    "    xx: meshgrid ndarray\n",
    "    yy: meshgrid ndarray\n",
    "    params: dictionary of params to pass to contourf, optional\n",
    "    \"\"\"\n",
    "    Z = clf.predict(np.c_[xx.ravel(), yy.ravel()])\n",
    "    Z = Z.reshape(xx.shape)\n",
    "    out = ax.contourf(xx, yy, Z, **params)\n",
    "    return out\n",
    "\n",
    "# Take the first two features. We could avoid this by using a two-dim dataset\n",
    "X = SVM_input[:,6:8]\n",
    "y = SVM_output\n",
    "\n",
    "# we create an instance of SVM and fit out data. We do not scale our\n",
    "# data since we want to plot the support vectors\n",
    "C = 1.0  # SVM regularization parameter\n",
    "models = (svm.SVC(kernel='linear', C=C),\n",
    "          svm.LinearSVC(C=C),\n",
    "          svm.SVC(kernel='rbf', gamma=0.7, C=C),\n",
    "          svm.SVC(kernel='poly', degree=3, C=C))\n",
    "models = (clf.fit(X, y) for clf in models)\n",
    "\n",
    "# title for the plots\n",
    "titles = ('SVC with linear kernel',\n",
    "          'LinearSVC (linear kernel)',\n",
    "          'SVC with RBF kernel',\n",
    "          'SVC with polynomial (degree 3) kernel')\n",
    "\n",
    "# Set-up 2x2 grid for plotting.\n",
    "fig, sub = plt.subplots(2, 2)\n",
    "plt.subplots_adjust(wspace=0.4, hspace=0.4)\n",
    "\n",
    "X0, X1 = X[:, 0], X[:, 1]\n",
    "xx, yy = make_meshgrid(X0, X1)\n",
    "\n",
    "for clf, title, ax in zip(models, titles, sub.flatten()):\n",
    "    plot_contours(ax, clf, xx, yy,\n",
    "                  cmap=plt.cm.coolwarm, alpha=0.8)\n",
    "    ax.scatter(X0, X1, c=y, cmap=plt.cm.coolwarm, s=20, edgecolors='k')\n",
    "    ax.set_xlim(xx.min(), xx.max())\n",
    "    ax.set_ylim(yy.min(), yy.max())\n",
    "    ax.set_xlabel('feature1')\n",
    "    ax.set_ylabel('feature2')\n",
    "    ax.set_xticks(())\n",
    "    ax.set_yticks(())\n",
    "    ax.set_title(title)\n",
    "\n",
    "plt.show()"
   ]
  },
  {
   "cell_type": "code",
   "execution_count": 46,
   "metadata": {},
   "outputs": [
    {
     "name": "stdout",
     "output_type": "stream",
     "text": [
      "Automatically created module for IPython interactive environment\n",
      "Confusion matrix, without normalization\n",
      "[[13  0  0]\n",
      " [ 0 10  6]\n",
      " [ 0  0  9]]\n",
      "Normalized confusion matrix\n",
      "[[ 1.    0.    0.  ]\n",
      " [ 0.    0.62  0.38]\n",
      " [ 0.    0.    1.  ]]\n"
     ]
    },
    {
     "data": {
      "image/png": "[encoded data removed]",
      "text/plain": [
       "<matplotlib.figure.Figure at 0x171deaffd30>"
      ]
     },
     "metadata": {},
     "output_type": "display_data"
    },
    {
     "data": {
      "image/png": "[encoded data removed]",
      "text/plain": [
       "<matplotlib.figure.Figure at 0x171deb906a0>"
      ]
     },
     "metadata": {},
     "output_type": "display_data"
    }
   ],
   "source": [
    "print(__doc__)\n",
    "\n",
    "import itertools\n",
    "import numpy as np\n",
    "import matplotlib.pyplot as plt\n",
    "\n",
    "from sklearn import svm, datasets\n",
    "from sklearn.model_selection import train_test_split\n",
    "from sklearn.metrics import confusion_matrix\n",
    "\n",
    "# import some data to play with\n",
    "iris = datasets.load_iris()\n",
    "X = iris.data\n",
    "y = iris.target\n",
    "class_names = iris.target_names\n",
    "\n",
    "# Split the data into a training set and a test set\n",
    "X_train, X_test, y_train, y_test = train_test_split(X, y, random_state=0)\n",
    "\n",
    "# Run classifier, using a model that is too regularized (C too low) to see\n",
    "# the impact on the results\n",
    "classifier = svm.SVC(kernel='linear', C=0.01)\n",
    "y_pred = classifier.fit(X_train, y_train).predict(X_test)\n",
    "\n",
    "\n",
    "def plot_confusion_matrix(cm, classes,\n",
    "                          normalize=False,\n",
    "                          title='Confusion matrix',\n",
    "                          cmap=plt.cm.Blues):\n",
    "    \"\"\"\n",
    "    This function prints and plots the confusion matrix.\n",
    "    Normalization can be applied by setting `normalize=True`.\n",
    "    \"\"\"\n",
    "    if normalize:\n",
    "        cm = cm.astype('float') / cm.sum(axis=1)[:, np.newaxis]\n",
    "        print(\"Normalized confusion matrix\")\n",
    "    else:\n",
    "        print('Confusion matrix, without normalization')\n",
    "\n",
    "    print(cm)\n",
    "\n",
    "    plt.imshow(cm, interpolation='nearest', cmap=cmap)\n",
    "    plt.title(title)\n",
    "    plt.colorbar()\n",
    "    tick_marks = np.arange(len(classes))\n",
    "    plt.xticks(tick_marks, classes, rotation=45)\n",
    "    plt.yticks(tick_marks, classes)\n",
    "\n",
    "    fmt = '.2f' if normalize else 'd'\n",
    "    thresh = cm.max() / 2.\n",
    "    for i, j in itertools.product(range(cm.shape[0]), range(cm.shape[1])):\n",
    "        plt.text(j, i, format(cm[i, j], fmt),\n",
    "                 horizontalalignment=\"center\",\n",
    "                 color=\"white\" if cm[i, j] > thresh else \"black\")\n",
    "\n",
    "    plt.tight_layout()\n",
    "    plt.ylabel('True label')\n",
    "    plt.xlabel('Predicted label')\n",
    "\n",
    "# Compute confusion matrix\n",
    "cnf_matrix = confusion_matrix(y_test, y_pred)\n",
    "np.set_printoptions(precision=2)\n",
    "\n",
    "# Plot non-normalized confusion matrix\n",
    "plt.figure()\n",
    "plot_confusion_matrix(cnf_matrix, classes=class_names,\n",
    "                      title='Confusion matrix, without normalization')\n",
    "\n",
    "# Plot normalized confusion matrix\n",
    "plt.figure()\n",
    "plot_confusion_matrix(cnf_matrix, classes=class_names, normalize=True,\n",
    "                      title='Normalized confusion matrix')\n",
    "\n",
    "plt.show()"
   ]
  },
  {
   "cell_type": "code",
   "execution_count": 93,
   "metadata": {},
   "outputs": [
    {
     "data": {
      "text/plain": [
       "array([[ 0.93,  0.03,  0.03,  0.  ,  0.01],\n",
       "       [ 0.01,  0.94,  0.03,  0.01,  0.01],\n",
       "       [ 0.  ,  0.02,  0.95,  0.01,  0.02],\n",
       "       [ 0.  ,  0.  ,  0.  ,  0.95,  0.05],\n",
       "       [ 0.  ,  0.02,  0.01,  0.01,  0.96]])"
      ]
     },
     "execution_count": 93,
     "metadata": {},
     "output_type": "execute_result"
    }
   ],
   "source": [
    "x =np.zeros(shape = ( 5, 5 ))\n",
    "data = [[0.93, 0.03, 0.03, 0, 0.01],\n",
    "        [0.01,0.94,0.03,0.01,0.01], \n",
    "        [0, 0.02, 0.95, 0.01, 0.02], \n",
    "        [0,0,0, 0.95, 0.04, 0.01], \n",
    "        [0,0.02, 0.01, 0.01, 0.96]]\n",
    "\n",
    "x[0,:] = [0.93, 0.03, 0.03, 0, 0.01]\n",
    "x[1, :] = [0.01,0.94,0.03,0.01,0.01]\n",
    "x[2,:] = [0, 0.02, 0.95, 0.01, 0.02]\n",
    "x[3,:] = [0,0,0, 0.95, 0.05]\n",
    "x[4, :] = [0,0.02, 0.01, 0.01, 0.96]\n",
    "x.astype(np.double)\n"
   ]
  },
  {
   "cell_type": "code",
   "execution_count": 100,
   "metadata": {},
   "outputs": [
    {
     "name": "stdout",
     "output_type": "stream",
     "text": [
      "Normalized confusion matrix\n",
      "[[ 0.93  0.03  0.03  0.    0.01]\n",
      " [ 0.01  0.94  0.03  0.01  0.01]\n",
      " [ 0.    0.02  0.95  0.01  0.02]\n",
      " [ 0.    0.    0.    0.95  0.05]\n",
      " [ 0.    0.02  0.01  0.01  0.96]]\n"
     ]
    },
    {
     "data": {
      "image/png": "[encoded data removed]",
      "text/plain": [
       "<matplotlib.figure.Figure at 0x171deaa7ba8>"
      ]
     },
     "metadata": {},
     "output_type": "display_data"
    }
   ],
   "source": [
    "\n",
    "label = ['N1', 'N2', 'N3', 'REM', 'Wake']\n",
    "sleepclass = np.array(label)\n",
    "plt.figure()\n",
    "plot_confusion_matrix(x, classes=sleepclass,normalize = True,\n",
    "                      title='Confusion matrix, with normalization')\n",
    "plt.show()"
   ]
  }
 ],
 "metadata": {
  "anaconda-cloud": {},
  "kernelspec": {
   "display_name": "Python 3",
   "language": "python",
   "name": "python3"
  },
  "language_info": {
   "codemirror_mode": {
    "name": "ipython",
    "version": 3
   },
   "file_extension": ".py",
   "mimetype": "text/x-python",
   "name": "python",
   "nbconvert_exporter": "python",
   "pygments_lexer": "ipython3",
   "version": "3.6.3"
  }
 },
 "nbformat": 4,
 "nbformat_minor": 2
}
